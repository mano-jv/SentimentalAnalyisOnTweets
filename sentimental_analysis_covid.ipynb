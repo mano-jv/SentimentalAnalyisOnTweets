{
  "nbformat": 4,
  "nbformat_minor": 0,
  "metadata": {
    "kernelspec": {
      "language": "python",
      "display_name": "Python 3",
      "name": "python3"
    },
    "language_info": {
      "pygments_lexer": "ipython3",
      "nbconvert_exporter": "python",
      "version": "3.6.4",
      "file_extension": ".py",
      "codemirror_mode": {
        "name": "ipython",
        "version": 3
      },
      "name": "python",
      "mimetype": "text/x-python"
    },
    "colab": {
      "provenance": []
    }
  },
  "cells": [
    {
      "cell_type": "code",
      "metadata": {
        "trusted": true,
        "colab": {
          "base_uri": "https://localhost:8080/"
        },
        "id": "yMaG5tUwDnUI",
        "outputId": "30476720-c871-482c-bf79-2c50d3554cda"
      },
      "source": [
        "!pip install --upgrade pip"
      ],
      "execution_count": null,
      "outputs": [
        {
          "output_type": "stream",
          "text": [
            "Collecting pip\n",
            "\u001b[?25l  Downloading https://files.pythonhosted.org/packages/54/eb/4a3642e971f404d69d4f6fa3885559d67562801b99d7592487f1ecc4e017/pip-20.3.3-py2.py3-none-any.whl (1.5MB)\n",
            "\r\u001b[K     |▏                               | 10kB 18.5MB/s eta 0:00:01\r\u001b[K     |▍                               | 20kB 25.7MB/s eta 0:00:01\r\u001b[K     |▋                               | 30kB 12.2MB/s eta 0:00:01\r\u001b[K     |▉                               | 40kB 9.8MB/s eta 0:00:01\r\u001b[K     |█                               | 51kB 7.7MB/s eta 0:00:01\r\u001b[K     |█▎                              | 61kB 8.3MB/s eta 0:00:01\r\u001b[K     |█▌                              | 71kB 8.3MB/s eta 0:00:01\r\u001b[K     |█▊                              | 81kB 8.6MB/s eta 0:00:01\r\u001b[K     |██                              | 92kB 8.1MB/s eta 0:00:01\r\u001b[K     |██▏                             | 102kB 7.7MB/s eta 0:00:01\r\u001b[K     |██▍                             | 112kB 7.7MB/s eta 0:00:01\r\u001b[K     |██▋                             | 122kB 7.7MB/s eta 0:00:01\r\u001b[K     |██▉                             | 133kB 7.7MB/s eta 0:00:01\r\u001b[K     |███                             | 143kB 7.7MB/s eta 0:00:01\r\u001b[K     |███▎                            | 153kB 7.7MB/s eta 0:00:01\r\u001b[K     |███▌                            | 163kB 7.7MB/s eta 0:00:01\r\u001b[K     |███▋                            | 174kB 7.7MB/s eta 0:00:01\r\u001b[K     |███▉                            | 184kB 7.7MB/s eta 0:00:01\r\u001b[K     |████                            | 194kB 7.7MB/s eta 0:00:01\r\u001b[K     |████▎                           | 204kB 7.7MB/s eta 0:00:01\r\u001b[K     |████▌                           | 215kB 7.7MB/s eta 0:00:01\r\u001b[K     |████▊                           | 225kB 7.7MB/s eta 0:00:01\r\u001b[K     |█████                           | 235kB 7.7MB/s eta 0:00:01\r\u001b[K     |█████▏                          | 245kB 7.7MB/s eta 0:00:01\r\u001b[K     |█████▍                          | 256kB 7.7MB/s eta 0:00:01\r\u001b[K     |█████▋                          | 266kB 7.7MB/s eta 0:00:01\r\u001b[K     |█████▉                          | 276kB 7.7MB/s eta 0:00:01\r\u001b[K     |██████                          | 286kB 7.7MB/s eta 0:00:01\r\u001b[K     |██████▎                         | 296kB 7.7MB/s eta 0:00:01\r\u001b[K     |██████▌                         | 307kB 7.7MB/s eta 0:00:01\r\u001b[K     |██████▊                         | 317kB 7.7MB/s eta 0:00:01\r\u001b[K     |███████                         | 327kB 7.7MB/s eta 0:00:01\r\u001b[K     |███████                         | 337kB 7.7MB/s eta 0:00:01\r\u001b[K     |███████▎                        | 348kB 7.7MB/s eta 0:00:01\r\u001b[K     |███████▌                        | 358kB 7.7MB/s eta 0:00:01\r\u001b[K     |███████▊                        | 368kB 7.7MB/s eta 0:00:01\r\u001b[K     |████████                        | 378kB 7.7MB/s eta 0:00:01\r\u001b[K     |████████▏                       | 389kB 7.7MB/s eta 0:00:01\r\u001b[K     |████████▍                       | 399kB 7.7MB/s eta 0:00:01\r\u001b[K     |████████▋                       | 409kB 7.7MB/s eta 0:00:01\r\u001b[K     |████████▉                       | 419kB 7.7MB/s eta 0:00:01\r\u001b[K     |█████████                       | 430kB 7.7MB/s eta 0:00:01\r\u001b[K     |█████████▎                      | 440kB 7.7MB/s eta 0:00:01\r\u001b[K     |█████████▌                      | 450kB 7.7MB/s eta 0:00:01\r\u001b[K     |█████████▊                      | 460kB 7.7MB/s eta 0:00:01\r\u001b[K     |██████████                      | 471kB 7.7MB/s eta 0:00:01\r\u001b[K     |██████████▏                     | 481kB 7.7MB/s eta 0:00:01\r\u001b[K     |██████████▍                     | 491kB 7.7MB/s eta 0:00:01\r\u001b[K     |██████████▋                     | 501kB 7.7MB/s eta 0:00:01\r\u001b[K     |██████████▊                     | 512kB 7.7MB/s eta 0:00:01\r\u001b[K     |███████████                     | 522kB 7.7MB/s eta 0:00:01\r\u001b[K     |███████████▏                    | 532kB 7.7MB/s eta 0:00:01\r\u001b[K     |███████████▍                    | 542kB 7.7MB/s eta 0:00:01\r\u001b[K     |███████████▋                    | 552kB 7.7MB/s eta 0:00:01\r\u001b[K     |███████████▉                    | 563kB 7.7MB/s eta 0:00:01\r\u001b[K     |████████████                    | 573kB 7.7MB/s eta 0:00:01\r\u001b[K     |████████████▎                   | 583kB 7.7MB/s eta 0:00:01\r\u001b[K     |████████████▌                   | 593kB 7.7MB/s eta 0:00:01\r\u001b[K     |████████████▊                   | 604kB 7.7MB/s eta 0:00:01\r\u001b[K     |█████████████                   | 614kB 7.7MB/s eta 0:00:01\r\u001b[K     |█████████████▏                  | 624kB 7.7MB/s eta 0:00:01\r\u001b[K     |█████████████▍                  | 634kB 7.7MB/s eta 0:00:01\r\u001b[K     |█████████████▋                  | 645kB 7.7MB/s eta 0:00:01\r\u001b[K     |█████████████▉                  | 655kB 7.7MB/s eta 0:00:01\r\u001b[K     |██████████████                  | 665kB 7.7MB/s eta 0:00:01\r\u001b[K     |██████████████▏                 | 675kB 7.7MB/s eta 0:00:01\r\u001b[K     |██████████████▍                 | 686kB 7.7MB/s eta 0:00:01\r\u001b[K     |██████████████▋                 | 696kB 7.7MB/s eta 0:00:01\r\u001b[K     |██████████████▉                 | 706kB 7.7MB/s eta 0:00:01\r\u001b[K     |███████████████                 | 716kB 7.7MB/s eta 0:00:01\r\u001b[K     |███████████████▎                | 727kB 7.7MB/s eta 0:00:01\r\u001b[K     |███████████████▌                | 737kB 7.7MB/s eta 0:00:01\r\u001b[K     |███████████████▊                | 747kB 7.7MB/s eta 0:00:01\r\u001b[K     |████████████████                | 757kB 7.7MB/s eta 0:00:01\r\u001b[K     |████████████████▏               | 768kB 7.7MB/s eta 0:00:01\r\u001b[K     |████████████████▍               | 778kB 7.7MB/s eta 0:00:01\r\u001b[K     |████████████████▋               | 788kB 7.7MB/s eta 0:00:01\r\u001b[K     |████████████████▉               | 798kB 7.7MB/s eta 0:00:01\r\u001b[K     |█████████████████               | 808kB 7.7MB/s eta 0:00:01\r\u001b[K     |█████████████████▎              | 819kB 7.7MB/s eta 0:00:01\r\u001b[K     |█████████████████▌              | 829kB 7.7MB/s eta 0:00:01\r\u001b[K     |█████████████████▊              | 839kB 7.7MB/s eta 0:00:01\r\u001b[K     |█████████████████▉              | 849kB 7.7MB/s eta 0:00:01\r\u001b[K     |██████████████████              | 860kB 7.7MB/s eta 0:00:01\r\u001b[K     |██████████████████▎             | 870kB 7.7MB/s eta 0:00:01\r\u001b[K     |██████████████████▌             | 880kB 7.7MB/s eta 0:00:01\r\u001b[K     |██████████████████▊             | 890kB 7.7MB/s eta 0:00:01\r\u001b[K     |███████████████████             | 901kB 7.7MB/s eta 0:00:01\r\u001b[K     |███████████████████▏            | 911kB 7.7MB/s eta 0:00:01\r\u001b[K     |███████████████████▍            | 921kB 7.7MB/s eta 0:00:01\r\u001b[K     |███████████████████▋            | 931kB 7.7MB/s eta 0:00:01\r\u001b[K     |███████████████████▉            | 942kB 7.7MB/s eta 0:00:01\r\u001b[K     |████████████████████            | 952kB 7.7MB/s eta 0:00:01\r\u001b[K     |████████████████████▎           | 962kB 7.7MB/s eta 0:00:01\r\u001b[K     |████████████████████▌           | 972kB 7.7MB/s eta 0:00:01\r\u001b[K     |████████████████████▊           | 983kB 7.7MB/s eta 0:00:01\r\u001b[K     |█████████████████████           | 993kB 7.7MB/s eta 0:00:01\r\u001b[K     |█████████████████████▏          | 1.0MB 7.7MB/s eta 0:00:01\r\u001b[K     |█████████████████████▎          | 1.0MB 7.7MB/s eta 0:00:01\r\u001b[K     |█████████████████████▌          | 1.0MB 7.7MB/s eta 0:00:01\r\u001b[K     |█████████████████████▊          | 1.0MB 7.7MB/s eta 0:00:01\r\u001b[K     |██████████████████████          | 1.0MB 7.7MB/s eta 0:00:01\r\u001b[K     |██████████████████████▏         | 1.1MB 7.7MB/s eta 0:00:01\r\u001b[K     |██████████████████████▍         | 1.1MB 7.7MB/s eta 0:00:01\r\u001b[K     |██████████████████████▋         | 1.1MB 7.7MB/s eta 0:00:01\r\u001b[K     |██████████████████████▉         | 1.1MB 7.7MB/s eta 0:00:01\r\u001b[K     |███████████████████████         | 1.1MB 7.7MB/s eta 0:00:01\r\u001b[K     |███████████████████████▎        | 1.1MB 7.7MB/s eta 0:00:01\r\u001b[K     |███████████████████████▌        | 1.1MB 7.7MB/s eta 0:00:01\r\u001b[K     |███████████████████████▊        | 1.1MB 7.7MB/s eta 0:00:01\r\u001b[K     |████████████████████████        | 1.1MB 7.7MB/s eta 0:00:01\r\u001b[K     |████████████████████████▏       | 1.1MB 7.7MB/s eta 0:00:01\r\u001b[K     |████████████████████████▍       | 1.2MB 7.7MB/s eta 0:00:01\r\u001b[K     |████████████████████████▋       | 1.2MB 7.7MB/s eta 0:00:01\r\u001b[K     |████████████████████████▊       | 1.2MB 7.7MB/s eta 0:00:01\r\u001b[K     |█████████████████████████       | 1.2MB 7.7MB/s eta 0:00:01\r\u001b[K     |█████████████████████████▏      | 1.2MB 7.7MB/s eta 0:00:01\r\u001b[K     |█████████████████████████▍      | 1.2MB 7.7MB/s eta 0:00:01\r\u001b[K     |█████████████████████████▋      | 1.2MB 7.7MB/s eta 0:00:01\r\u001b[K     |█████████████████████████▉      | 1.2MB 7.7MB/s eta 0:00:01\r\u001b[K     |██████████████████████████      | 1.2MB 7.7MB/s eta 0:00:01\r\u001b[K     |██████████████████████████▎     | 1.2MB 7.7MB/s eta 0:00:01\r\u001b[K     |██████████████████████████▌     | 1.3MB 7.7MB/s eta 0:00:01\r\u001b[K     |██████████████████████████▊     | 1.3MB 7.7MB/s eta 0:00:01\r\u001b[K     |███████████████████████████     | 1.3MB 7.7MB/s eta 0:00:01\r\u001b[K     |███████████████████████████▏    | 1.3MB 7.7MB/s eta 0:00:01\r\u001b[K     |███████████████████████████▍    | 1.3MB 7.7MB/s eta 0:00:01\r\u001b[K     |███████████████████████████▋    | 1.3MB 7.7MB/s eta 0:00:01\r\u001b[K     |███████████████████████████▉    | 1.3MB 7.7MB/s eta 0:00:01\r\u001b[K     |████████████████████████████    | 1.3MB 7.7MB/s eta 0:00:01\r\u001b[K     |████████████████████████████▎   | 1.3MB 7.7MB/s eta 0:00:01\r\u001b[K     |████████████████████████████▍   | 1.4MB 7.7MB/s eta 0:00:01\r\u001b[K     |████████████████████████████▋   | 1.4MB 7.7MB/s eta 0:00:01\r\u001b[K     |████████████████████████████▉   | 1.4MB 7.7MB/s eta 0:00:01\r\u001b[K     |█████████████████████████████   | 1.4MB 7.7MB/s eta 0:00:01\r\u001b[K     |█████████████████████████████▎  | 1.4MB 7.7MB/s eta 0:00:01\r\u001b[K     |█████████████████████████████▌  | 1.4MB 7.7MB/s eta 0:00:01\r\u001b[K     |█████████████████████████████▊  | 1.4MB 7.7MB/s eta 0:00:01\r\u001b[K     |██████████████████████████████  | 1.4MB 7.7MB/s eta 0:00:01\r\u001b[K     |██████████████████████████████▏ | 1.4MB 7.7MB/s eta 0:00:01\r\u001b[K     |██████████████████████████████▍ | 1.4MB 7.7MB/s eta 0:00:01\r\u001b[K     |██████████████████████████████▋ | 1.5MB 7.7MB/s eta 0:00:01\r\u001b[K     |██████████████████████████████▉ | 1.5MB 7.7MB/s eta 0:00:01\r\u001b[K     |███████████████████████████████ | 1.5MB 7.7MB/s eta 0:00:01\r\u001b[K     |███████████████████████████████▎| 1.5MB 7.7MB/s eta 0:00:01\r\u001b[K     |███████████████████████████████▌| 1.5MB 7.7MB/s eta 0:00:01\r\u001b[K     |███████████████████████████████▊| 1.5MB 7.7MB/s eta 0:00:01\r\u001b[K     |███████████████████████████████▉| 1.5MB 7.7MB/s eta 0:00:01\r\u001b[K     |████████████████████████████████| 1.5MB 7.7MB/s \n",
            "\u001b[?25hInstalling collected packages: pip\n",
            "  Found existing installation: pip 19.3.1\n",
            "    Uninstalling pip-19.3.1:\n",
            "      Successfully uninstalled pip-19.3.1\n",
            "Successfully installed pip-20.3.3\n"
          ],
          "name": "stdout"
        }
      ]
    },
    {
      "cell_type": "code",
      "metadata": {
        "_uuid": "8f2839f25d086af736a60e9eeb907d3b93b6e0e5",
        "_cell_guid": "b1076dfc-b9ad-4769-8c92-a6c4dae69d19",
        "trusted": true,
        "colab": {
          "base_uri": "https://localhost:8080/"
        },
        "id": "0zzWzYVvDnUK",
        "outputId": "c6f36413-2e96-4114-f60e-7313f5e8e45a"
      },
      "source": [
        "# This Python 3 environment comes with many helpful analytics libraries installed\n",
        "# It is defined by the kaggle/python Docker image: https://github.com/kaggle/docker-python\n",
        "# For example, here's several helpful packages to load\n",
        "\n",
        "import numpy as np\n",
        "import pandas as pd\n",
        "\n",
        "import os\n",
        "for dirname, _, filenames in os.walk('/kaggle/input'):\n",
        "    for filename in filenames:\n",
        "        print(os.path.join(dirname, filename))\n",
        "!pip install tweepy\n",
        "!pip install ibm_watson\n",
        "# You can write up to 5GB to the current directory (/kaggle/working/) that gets preserved as output when you create a version using \"Save & Run All\"\n",
        "# You can also write temporary files to /kaggle/temp/, but they won't be saved outside of the current session"
      ],
      "execution_count": null,
      "outputs": [
        {
          "output_type": "stream",
          "text": [
            "Requirement already satisfied: tweepy in /usr/local/lib/python3.6/dist-packages (3.6.0)\n",
            "Requirement already satisfied: requests-oauthlib>=0.7.0 in /usr/local/lib/python3.6/dist-packages (from tweepy) (1.3.0)\n",
            "Requirement already satisfied: PySocks>=1.5.7 in /usr/local/lib/python3.6/dist-packages (from tweepy) (1.7.1)\n",
            "Requirement already satisfied: six>=1.10.0 in /usr/local/lib/python3.6/dist-packages (from tweepy) (1.15.0)\n",
            "Requirement already satisfied: requests>=2.11.1 in /usr/local/lib/python3.6/dist-packages (from tweepy) (2.23.0)\n",
            "Requirement already satisfied: urllib3!=1.25.0,!=1.25.1,<1.26,>=1.21.1 in /usr/local/lib/python3.6/dist-packages (from requests>=2.11.1->tweepy) (1.24.3)\n",
            "Requirement already satisfied: idna<3,>=2.5 in /usr/local/lib/python3.6/dist-packages (from requests>=2.11.1->tweepy) (2.10)\n",
            "Requirement already satisfied: chardet<4,>=3.0.2 in /usr/local/lib/python3.6/dist-packages (from requests>=2.11.1->tweepy) (3.0.4)\n",
            "Requirement already satisfied: certifi>=2017.4.17 in /usr/local/lib/python3.6/dist-packages (from requests>=2.11.1->tweepy) (2020.12.5)\n",
            "Requirement already satisfied: oauthlib>=3.0.0 in /usr/local/lib/python3.6/dist-packages (from requests-oauthlib>=0.7.0->tweepy) (3.1.0)\n",
            "Collecting ibm_watson\n",
            "  Downloading ibm-watson-5.0.0.tar.gz (381 kB)\n",
            "\u001b[K     |████████████████████████████████| 381 kB 8.3 MB/s \n",
            "\u001b[?25hRequirement already satisfied: requests<3.0,>=2.0 in /usr/local/lib/python3.6/dist-packages (from ibm_watson) (2.23.0)\n",
            "Requirement already satisfied: python_dateutil>=2.5.3 in /usr/local/lib/python3.6/dist-packages (from ibm_watson) (2.8.1)\n",
            "Collecting ibm_cloud_sdk_core==1.7.3\n",
            "  Downloading ibm-cloud-sdk-core-1.7.3.tar.gz (27 kB)\n",
            "Collecting websocket-client==0.48.0\n",
            "  Downloading websocket_client-0.48.0-py2.py3-none-any.whl (198 kB)\n",
            "\u001b[K     |████████████████████████████████| 198 kB 13.2 MB/s \n",
            "\u001b[?25hRequirement already satisfied: six in /usr/local/lib/python3.6/dist-packages (from websocket-client==0.48.0->ibm_watson) (1.15.0)\n",
            "Collecting PyJWT>=1.7.1\n",
            "  Downloading PyJWT-1.7.1-py2.py3-none-any.whl (18 kB)\n",
            "Requirement already satisfied: urllib3!=1.25.0,!=1.25.1,<1.26,>=1.21.1 in /usr/local/lib/python3.6/dist-packages (from requests<3.0,>=2.0->ibm_watson) (1.24.3)\n",
            "Requirement already satisfied: certifi>=2017.4.17 in /usr/local/lib/python3.6/dist-packages (from requests<3.0,>=2.0->ibm_watson) (2020.12.5)\n",
            "Requirement already satisfied: chardet<4,>=3.0.2 in /usr/local/lib/python3.6/dist-packages (from requests<3.0,>=2.0->ibm_watson) (3.0.4)\n",
            "Requirement already satisfied: idna<3,>=2.5 in /usr/local/lib/python3.6/dist-packages (from requests<3.0,>=2.0->ibm_watson) (2.10)\n",
            "Building wheels for collected packages: ibm-watson, ibm-cloud-sdk-core\n",
            "  Building wheel for ibm-watson (setup.py) ... \u001b[?25l\u001b[?25hdone\n",
            "  Created wheel for ibm-watson: filename=ibm_watson-5.0.0-py3-none-any.whl size=375160 sha256=3764b47ea7b6fcfce1f05ad2a45886332124a1c7926f617d0fa3194b0a9913a7\n",
            "  Stored in directory: /root/.cache/pip/wheels/7a/52/a2/540b1f7f1c79d6ec90f9807c3bb1d9f9ff8e1b486c7331256c\n",
            "  Building wheel for ibm-cloud-sdk-core (setup.py) ... \u001b[?25l\u001b[?25hdone\n",
            "  Created wheel for ibm-cloud-sdk-core: filename=ibm_cloud_sdk_core-1.7.3-py3-none-any.whl size=45941 sha256=5935ed52aa468227f5b1df6ff857d582adf2420bf33c55fdf4324cdf91e02d82\n",
            "  Stored in directory: /root/.cache/pip/wheels/42/3b/dc/7245cd35096169b10a629ca9cec6d42d684886f97db724bc76\n",
            "Successfully built ibm-watson ibm-cloud-sdk-core\n",
            "Installing collected packages: PyJWT, websocket-client, ibm-cloud-sdk-core, ibm-watson\n",
            "Successfully installed PyJWT-1.7.1 ibm-cloud-sdk-core-1.7.3 ibm-watson-5.0.0 websocket-client-0.48.0\n"
          ],
          "name": "stdout"
        }
      ]
    },
    {
      "cell_type": "code",
      "metadata": {
        "_uuid": "d629ff2d2480ee46fbb7e2d37f6b5fab8052498a",
        "_cell_guid": "79c7e3d0-c299-4dcb-8224-4455121ee9b0",
        "trusted": true,
        "id": "9WIDJwbjDnUL"
      },
      "source": [
        "import tweepy\n",
        "from tweepy import Stream\n",
        "from tweepy import OAuthHandler\n",
        "from tweepy.streaming import StreamListener\n",
        "import json\n",
        "import pandas as pd\n",
        "import csv\n",
        "import re #regular expression\n",
        "from textblob import TextBlob\n",
        "import string\n",
        "#import preprocessor as p\n",
        "import ibm_watson"
      ],
      "execution_count": null,
      "outputs": []
    },
    {
      "cell_type": "code",
      "metadata": {
        "trusted": true,
        "id": "7RjDLAEODnUL"
      },
      "source": [
        "consumer_key = 'AdVCM5CnJ00NJ8jPSXrTVmA39'\n",
        "consumer_secret = 'V7nfJ6eTFERY4vXsfpDDz6f75bFPEncNisWDkcSOqsX6hZRLIl'\n",
        "access_key = '1252209964199710721-hmcuVrta5CYXtLIgRZvN2ktY7Fa1cc'\n",
        "access_secret = 'mh7LzyOukZ2moG47dbTkC9F6ZVN6Mm4A6cPNW6PJEYKyP'\n"
      ],
      "execution_count": null,
      "outputs": []
    },
    {
      "cell_type": "code",
      "metadata": {
        "trusted": true,
        "id": "QZPToaYsDnUM"
      },
      "source": [
        "auth = tweepy.OAuthHandler(consumer_key, consumer_secret)\n",
        "auth.set_access_token(access_key, access_secret)\n",
        "api = tweepy.API(auth)\n"
      ],
      "execution_count": null,
      "outputs": []
    },
    {
      "cell_type": "code",
      "metadata": {
        "trusted": true,
        "id": "lC1YG9viDnUM"
      },
      "source": [
        "results=[]\n",
        "for tweet in tweepy.Cursor(api.search, q = '#lockdown',since=\"2020-03-22\", lang = \"en\").items(200):\n",
        "    results.append(tweet)"
      ],
      "execution_count": null,
      "outputs": []
    },
    {
      "cell_type": "code",
      "metadata": {
        "trusted": true,
        "colab": {
          "base_uri": "https://localhost:8080/"
        },
        "id": "s96GhxRtDnUN",
        "outputId": "7fbaa281-cc56-4140-efb7-34685ae1cb95"
      },
      "source": [
        "def tweets_df(results):\n",
        "    id_list = [tweet.id for tweet  in results]\n",
        "    data_set = pd.DataFrame(id_list, columns = [\"id\"])\n",
        "\n",
        "    data_set[\"text\"] = [tweet.text for tweet in results]\n",
        "    return data_set\n",
        "dataset=tweets_df(results)\n",
        "print(dataset)"
      ],
      "execution_count": null,
      "outputs": [
        {
          "output_type": "stream",
          "text": [
            "                      id                                               text\n",
            "0    1340208371102867457  RT @BitSigmaBTC: 🦸OKEx Hero Recruitment\\n\\nIf ...\n",
            "1    1340208339905466369  RT @Drvilasjagdale: https://t.co/rQG7Q3i3kj my...\n",
            "2    1340208275300769792  RT @paschal2k2: Love is a beautiful thing 😍😍😍😍...\n",
            "3    1340208273295863808  RT @mi6rogue: In a \"Secret\" meeting with @Bori...\n",
            "4    1340208226659426305  Is this inept government going to lock down la...\n",
            "..                   ...                                                ...\n",
            "195  1340200791647395840  RT @paschal2k2: Love is a beautiful thing 😍😍😍😍...\n",
            "196  1340200774224261123  COVID-19 Update For December 18 2020 In Nigeri...\n",
            "197  1340200689964879874  Shatta wale want to go to Las Vegas 🤣🤣 @shatta...\n",
            "198  1340200669786107904  RT @paschal2k2: Love is a beautiful thing 😍😍😍😍...\n",
            "199  1340200589985255425  RT @MennoPP: Absolutely loving using @get_mibo...\n",
            "\n",
            "[200 rows x 2 columns]\n"
          ],
          "name": "stdout"
        }
      ]
    },
    {
      "cell_type": "code",
      "metadata": {
        "trusted": true,
        "id": "zodLv-uBDnUN"
      },
      "source": [
        "from ibm_cloud_sdk_core.authenticators import IAMAuthenticator"
      ],
      "execution_count": null,
      "outputs": []
    },
    {
      "cell_type": "code",
      "metadata": {
        "trusted": true,
        "id": "SknSe2IDDnUN"
      },
      "source": [
        "from ibm_watson import ToneAnalyzerV3\n",
        "import pandas as pd\n",
        "import time\n",
        "authenticator = IAMAuthenticator('3RiQuDmUN0q6aGqfv-Ci8-7-OFnk9X-yI8aJ87R3Wz0M')\n",
        "service = ToneAnalyzerV3(version='2020-09-21',authenticator=authenticator)\n",
        "service.set_service_url('https://api.eu-gb.tone-analyzer.watson.cloud.ibm.com/instances/134d7e8c-4b1b-4448-ab93-099178450abc')"
      ],
      "execution_count": null,
      "outputs": []
    },
    {
      "cell_type": "code",
      "metadata": {
        "trusted": true,
        "colab": {
          "base_uri": "https://localhost:8080/"
        },
        "id": "5mppl-SPDnUO",
        "outputId": "0985c1a2-b767-4d00-cc45-7d32eb5497ae"
      },
      "source": [
        "sentiments=pd.DataFrame()\n",
        "sentiments[\"id\"]=np.nan\n",
        "sentiments[\"Sadness\"]=np.nan\n",
        "sentiments[\"Confident\"]=np.nan\n",
        "sentiments[\"Tentative\"]=np.nan\n",
        "sentiments[\"Joy\"]=np.nan\n",
        "sentiments[\"Anger\"]=np.nan\n",
        "sentiments[\"Analytical\"]=np.nan\n",
        "t=[]\n",
        "for index, review in dataset['text'].iteritems():\n",
        "\n",
        "    json_output = service.tone(tone_input=review)\n",
        "    for i in json_output.result['document_tone'][\"tones\"]:\n",
        "            print(i)\n",
        "            #Append the attributes to the data\n",
        "            t.append(index)\n",
        "            sentiments[i['tone_name']] =[i['score']]\n",
        "\n",
        "#print(t)"
      ],
      "execution_count": null,
      "outputs": [
        {
          "output_type": "stream",
          "text": [
            "{'score': 0.693557, 'tone_id': 'joy', 'tone_name': 'Joy'}\n",
            "{'score': 0.914696, 'tone_id': 'joy', 'tone_name': 'Joy'}\n",
            "{'score': 0.674901, 'tone_id': 'joy', 'tone_name': 'Joy'}\n",
            "{'score': 0.579367, 'tone_id': 'analytical', 'tone_name': 'Analytical'}\n",
            "{'score': 0.71468, 'tone_id': 'joy', 'tone_name': 'Joy'}\n",
            "{'score': 0.698873, 'tone_id': 'joy', 'tone_name': 'Joy'}\n",
            "{'score': 0.908592, 'tone_id': 'analytical', 'tone_name': 'Analytical'}\n",
            "{'score': 0.687249, 'tone_id': 'sadness', 'tone_name': 'Sadness'}\n",
            "{'score': 0.914696, 'tone_id': 'joy', 'tone_name': 'Joy'}\n",
            "{'score': 0.698873, 'tone_id': 'joy', 'tone_name': 'Joy'}\n",
            "{'score': 0.908592, 'tone_id': 'analytical', 'tone_name': 'Analytical'}\n",
            "{'score': 0.914696, 'tone_id': 'joy', 'tone_name': 'Joy'}\n",
            "{'score': 0.914696, 'tone_id': 'joy', 'tone_name': 'Joy'}\n",
            "{'score': 0.698873, 'tone_id': 'joy', 'tone_name': 'Joy'}\n",
            "{'score': 0.908592, 'tone_id': 'analytical', 'tone_name': 'Analytical'}\n",
            "{'score': 0.914696, 'tone_id': 'joy', 'tone_name': 'Joy'}\n",
            "{'score': 0.647986, 'tone_id': 'tentative', 'tone_name': 'Tentative'}\n",
            "{'score': 0.914696, 'tone_id': 'joy', 'tone_name': 'Joy'}\n",
            "{'score': 0.914696, 'tone_id': 'joy', 'tone_name': 'Joy'}\n",
            "{'score': 0.914696, 'tone_id': 'joy', 'tone_name': 'Joy'}\n",
            "{'score': 0.914696, 'tone_id': 'joy', 'tone_name': 'Joy'}\n",
            "{'score': 0.745166, 'tone_id': 'joy', 'tone_name': 'Joy'}\n",
            "{'score': 0.703409, 'tone_id': 'analytical', 'tone_name': 'Analytical'}\n",
            "{'score': 0.914696, 'tone_id': 'joy', 'tone_name': 'Joy'}\n",
            "{'score': 0.797952, 'tone_id': 'joy', 'tone_name': 'Joy'}\n",
            "{'score': 0.914696, 'tone_id': 'joy', 'tone_name': 'Joy'}\n",
            "{'score': 0.697722, 'tone_id': 'joy', 'tone_name': 'Joy'}\n",
            "{'score': 0.797952, 'tone_id': 'joy', 'tone_name': 'Joy'}\n",
            "{'score': 0.914696, 'tone_id': 'joy', 'tone_name': 'Joy'}\n",
            "{'score': 0.674901, 'tone_id': 'joy', 'tone_name': 'Joy'}\n",
            "{'score': 0.553503, 'tone_id': 'fear', 'tone_name': 'Fear'}\n",
            "{'score': 0.959646, 'tone_id': 'tentative', 'tone_name': 'Tentative'}\n",
            "{'score': 0.697722, 'tone_id': 'joy', 'tone_name': 'Joy'}\n",
            "{'score': 0.763119, 'tone_id': 'sadness', 'tone_name': 'Sadness'}\n",
            "{'score': 0.550772, 'tone_id': 'joy', 'tone_name': 'Joy'}\n",
            "{'score': 0.668742, 'tone_id': 'analytical', 'tone_name': 'Analytical'}\n",
            "{'score': 0.914696, 'tone_id': 'joy', 'tone_name': 'Joy'}\n",
            "{'score': 0.649625, 'tone_id': 'joy', 'tone_name': 'Joy'}\n",
            "{'score': 0.786991, 'tone_id': 'tentative', 'tone_name': 'Tentative'}\n",
            "{'score': 0.762253, 'tone_id': 'joy', 'tone_name': 'Joy'}\n",
            "{'score': 0.912808, 'tone_id': 'analytical', 'tone_name': 'Analytical'}\n",
            "{'score': 0.914696, 'tone_id': 'joy', 'tone_name': 'Joy'}\n",
            "{'score': 0.914696, 'tone_id': 'joy', 'tone_name': 'Joy'}\n",
            "{'score': 0.674901, 'tone_id': 'joy', 'tone_name': 'Joy'}\n",
            "{'score': 0.674901, 'tone_id': 'joy', 'tone_name': 'Joy'}\n",
            "{'score': 0.664175, 'tone_id': 'tentative', 'tone_name': 'Tentative'}\n",
            "{'score': 0.727711, 'tone_id': 'joy', 'tone_name': 'Joy'}\n",
            "{'score': 0.690444, 'tone_id': 'analytical', 'tone_name': 'Analytical'}\n",
            "{'score': 0.698156, 'tone_id': 'tentative', 'tone_name': 'Tentative'}\n",
            "{'score': 0.914696, 'tone_id': 'joy', 'tone_name': 'Joy'}\n",
            "{'score': 0.545894, 'tone_id': 'sadness', 'tone_name': 'Sadness'}\n",
            "{'score': 0.914696, 'tone_id': 'joy', 'tone_name': 'Joy'}\n",
            "{'score': 0.914696, 'tone_id': 'joy', 'tone_name': 'Joy'}\n",
            "{'score': 0.967365, 'tone_id': 'joy', 'tone_name': 'Joy'}\n",
            "{'score': 0.994704, 'tone_id': 'tentative', 'tone_name': 'Tentative'}\n",
            "{'score': 0.914696, 'tone_id': 'joy', 'tone_name': 'Joy'}\n",
            "{'score': 0.914696, 'tone_id': 'joy', 'tone_name': 'Joy'}\n",
            "{'score': 0.918111, 'tone_id': 'joy', 'tone_name': 'Joy'}\n",
            "{'score': 0.914696, 'tone_id': 'joy', 'tone_name': 'Joy'}\n",
            "{'score': 0.914696, 'tone_id': 'joy', 'tone_name': 'Joy'}\n",
            "{'score': 0.914696, 'tone_id': 'joy', 'tone_name': 'Joy'}\n",
            "{'score': 0.914696, 'tone_id': 'joy', 'tone_name': 'Joy'}\n",
            "{'score': 0.914696, 'tone_id': 'joy', 'tone_name': 'Joy'}\n",
            "{'score': 0.506405, 'tone_id': 'joy', 'tone_name': 'Joy'}\n",
            "{'score': 0.959646, 'tone_id': 'tentative', 'tone_name': 'Tentative'}\n",
            "{'score': 0.911536, 'tone_id': 'analytical', 'tone_name': 'Analytical'}\n",
            "{'score': 0.548194, 'tone_id': 'sadness', 'tone_name': 'Sadness'}\n",
            "{'score': 0.762356, 'tone_id': 'analytical', 'tone_name': 'Analytical'}\n",
            "{'score': 0.618451, 'tone_id': 'confident', 'tone_name': 'Confident'}\n",
            "{'score': 0.542022, 'tone_id': 'sadness', 'tone_name': 'Sadness'}\n",
            "{'score': 0.914696, 'tone_id': 'joy', 'tone_name': 'Joy'}\n",
            "{'score': 0.914696, 'tone_id': 'joy', 'tone_name': 'Joy'}\n",
            "{'score': 0.914696, 'tone_id': 'joy', 'tone_name': 'Joy'}\n",
            "{'score': 0.914696, 'tone_id': 'joy', 'tone_name': 'Joy'}\n",
            "{'score': 0.914696, 'tone_id': 'joy', 'tone_name': 'Joy'}\n",
            "{'score': 0.914696, 'tone_id': 'joy', 'tone_name': 'Joy'}\n",
            "{'score': 0.914696, 'tone_id': 'joy', 'tone_name': 'Joy'}\n",
            "{'score': 0.914696, 'tone_id': 'joy', 'tone_name': 'Joy'}\n",
            "{'score': 0.914696, 'tone_id': 'joy', 'tone_name': 'Joy'}\n",
            "{'score': 0.914696, 'tone_id': 'joy', 'tone_name': 'Joy'}\n",
            "{'score': 0.914696, 'tone_id': 'joy', 'tone_name': 'Joy'}\n",
            "{'score': 0.914696, 'tone_id': 'joy', 'tone_name': 'Joy'}\n",
            "{'score': 0.902541, 'tone_id': 'joy', 'tone_name': 'Joy'}\n",
            "{'score': 0.914696, 'tone_id': 'joy', 'tone_name': 'Joy'}\n",
            "{'score': 0.693557, 'tone_id': 'joy', 'tone_name': 'Joy'}\n",
            "{'score': 0.666154, 'tone_id': 'joy', 'tone_name': 'Joy'}\n",
            "{'score': 0.553503, 'tone_id': 'fear', 'tone_name': 'Fear'}\n",
            "{'score': 0.876775, 'tone_id': 'joy', 'tone_name': 'Joy'}\n",
            "{'score': 0.936899, 'tone_id': 'tentative', 'tone_name': 'Tentative'}\n",
            "{'score': 0.99091, 'tone_id': 'confident', 'tone_name': 'Confident'}\n"
          ],
          "name": "stdout"
        }
      ]
    },
    {
      "cell_type": "code",
      "metadata": {
        "trusted": true,
        "id": "poUN7E5pDnUO"
      },
      "source": [],
      "execution_count": null,
      "outputs": []
    },
    {
      "cell_type": "code",
      "metadata": {
        "trusted": true,
        "id": "ksdQPL33DnUO"
      },
      "source": [],
      "execution_count": null,
      "outputs": []
    }
  ]
}